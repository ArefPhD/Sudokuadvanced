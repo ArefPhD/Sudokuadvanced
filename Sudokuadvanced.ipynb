{
  "nbformat": 4,
  "nbformat_minor": 0,
  "metadata": {
    "colab": {
      "name": "Untitled165.ipynb",
      "private_outputs": true,
      "provenance": []
    },
    "kernelspec": {
      "name": "python3",
      "display_name": "Python 3"
    },
    "language_info": {
      "name": "python"
    }
  },
  "cells": [
    {
      "cell_type": "code",
      "execution_count": null,
      "metadata": {
        "id": "ECILLrlTUm6x"
      },
      "outputs": [],
      "source": [
        "import re\n",
        "\n",
        "DigitSet = str  # e.g. '123'\n",
        "Square   = str  # e.g. 'A9'\n",
        "Picture  = str  # e.g. \"53..7....6..195....98....6.8...6...34..8.3..17...2...6.6....28....419..5....8..79\"\n",
        "Grid     = dict # E.g. {'A9': '123', ...}, a dict  of {Square: DigitSet}\n",
        "Fail     = Grid() # The empty Grid is used to indicate failure to find a solution\n",
        "\n",
        "def cross(A, B) -> tuple:\n",
        "    \"Cross product of strings in A and strings in B.\"\n",
        "    return tuple(a + b for a in A for b in B)\n",
        "\n",
        "digits    = '123456789'\n",
        "rows      = 'ABCDEFGHI'\n",
        "cols      = digits\n",
        "squares   = cross(rows, cols)\n",
        "all_boxes = [cross(rs, cs)  for rs in ('ABC','DEF','GHI') for cs in ('123','456','789')]\n",
        "all_units = [cross(rows, c) for c in cols] + [cross(r, cols) for r in rows] + all_boxes\n",
        "units     = {s: tuple(u for u in all_units if s in u) for s in squares}\n",
        "peers     = {s: set().union(*units[s]) - {s} for s in squares}\n",
        "\n",
        "def is_solution(solution: Grid, puzzle: Grid) -> bool:\n",
        "    \"Is this proposed solution to the puzzle actually valid?\"\n",
        "    return (solution is not Fail and\n",
        "            all(solution[s] == puzzle[s] for s in squares if len(puzzle[s]) == 1) and\n",
        "            all({solution[s] for s in unit} == set(digits) for unit in all_units))"
      ]
    },
    {
      "cell_type": "code",
      "source": [
        "def parse(picture) -> Grid:\n",
        "    \"\"\"Convert a Picture to a Grid.\"\"\"\n",
        "    vals = re.findall(r\"[.1-9]|[{][1-9]+[}]\", picture)\n",
        "    assert len(vals) == 81\n",
        "    return {s: digits if v == '.' else re.sub(r\"[{}]\", '', v) \n",
        "            for s, v in zip(squares, vals)}\n",
        "\n",
        "def picture(grid) -> Picture:\n",
        "    \"\"\"Convert a Grid to a Picture.\"\"\"\n",
        "    if grid is Fail: \n",
        "        return \"Fail\"\n",
        "    def val(d: DigitSet) -> str: return '.' if d == digits else d if len(d) == 1 else '{' + d + '}'\n",
        "    width = max(len(val(grid[s])) for s in grid)\n",
        "    dash = '\\n' + '+'.join(['-' * (width * 3 + 2)] * 3) + ' '\n",
        "    def cell(r, c): return val(grid[r + c]).center(width) + ('|'  if c in '36' else ' ')\n",
        "    def line(r): return ''.join(cell(r, c) for c in cols) + (dash if r in 'CF' else '')\n",
        "    return '\\n'.join(map(line, rows))"
      ],
      "metadata": {
        "id": "-K8eR9yVUr1Y"
      },
      "execution_count": null,
      "outputs": []
    },
    {
      "cell_type": "code",
      "source": [
        "grid1 = parse(\"53..7.... 6..195... .98....6. 8...6...3 4..8.3..1 7...2...6 .6....28. ...419..5 ....8..79\")\n",
        "#grid1 = parse(\"53..8.9.... 6..195... .98....6. 8...6...3 4..8.3..1 7...2...6 .6....28. ...419..5 ..8..79\")\n",
        "print(picture(grid1))"
      ],
      "metadata": {
        "id": "hPKqjll9Ute3"
      },
      "execution_count": null,
      "outputs": []
    },
    {
      "cell_type": "code",
      "source": [
        "def fill(grid, s, d) -> Grid:\n",
        "    \"\"\"Eliminate all the other digits (except d) from grid[s].\"\"\"\n",
        "    if grid[s] == d or all(eliminate(grid, s, d2) for d2 in grid[s] if d2 != d):\n",
        "        return grid\n",
        "    else:\n",
        "        return Fail\n",
        "\n",
        "def eliminate(grid, s, d) -> Grid:\n",
        "    \"\"\"Eliminate d from grid[s]; implement the two constraint propagation strategies.\"\"\"\n",
        "    if d not in grid[s]:\n",
        "        return grid        ## Already eliminated\n",
        "    grid[s] = grid[s].replace(d, '')\n",
        "    if not grid[s]:\n",
        "        return Fail        ## Fail: no legal digit left\n",
        "    elif len(grid[s]) == 1:\n",
        "        # 1. If a square has only one possible digit, then eliminate that digit from the square's peers.\n",
        "        d2 = grid[s]\n",
        "        if not all(eliminate(grid, s2, d2) for s2 in peers[s]):\n",
        "            return Fail    ## Fail: can't eliminate d2 from some square\n",
        "    for u in units[s]:\n",
        "        dplaces = [s for s in u if d in grid[s]]\n",
        "        # 2. If a unit has only one possible square that can hold a digit, then fill the square with the digit.\n",
        "        if not dplaces or (len(dplaces) == 1 and not fill(grid, dplaces[0], d)):\n",
        "            return Fail    ## Fail: no place in u for d\n",
        "    return grid"
      ],
      "metadata": {
        "id": "KT2DRRIoU7jH"
      },
      "execution_count": null,
      "outputs": []
    },
    {
      "cell_type": "code",
      "source": [
        "def constrain(grid) -> Grid:\n",
        "    \"Propagate constraints on a copy of grid to yield a new constrained Grid.\"\n",
        "    constrained: Grid = {s: digits for s in squares}\n",
        "    for s in grid:\n",
        "        d = grid[s]\n",
        "        if len(d) == 1:\n",
        "            fill(constrained, s, d)\n",
        "    return constrained"
      ],
      "metadata": {
        "id": "U-XuxhuFVBSW"
      },
      "execution_count": null,
      "outputs": []
    },
    {
      "cell_type": "code",
      "source": [
        "grid1 = parse(\"123123123 456456456 789789789 123123123 456456456 789789789 123123123 456456456 ....8..79\")\n",
        "print(picture(grid1))"
      ],
      "metadata": {
        "id": "HIqPJl4qXc9B"
      },
      "execution_count": null,
      "outputs": []
    },
    {
      "cell_type": "code",
      "source": [
        "constrain(grid1)"
      ],
      "metadata": {
        "id": "0yVPWFcXW1kh"
      },
      "execution_count": null,
      "outputs": []
    },
    {
      "cell_type": "code",
      "source": [
        "print(picture(constrain(grid1)))"
      ],
      "metadata": {
        "id": "yA_l3pUKVDLO"
      },
      "execution_count": null,
      "outputs": []
    },
    {
      "cell_type": "code",
      "source": [
        "grid2 = parse(\"4.....8.5.3..........7......2.....6.....8.4......1.......6.3.7.5..2.....1.4......\")\n",
        "\n",
        "print(picture(constrain(grid2)))"
      ],
      "metadata": {
        "id": "Eh8srEUIVPeV"
      },
      "execution_count": null,
      "outputs": []
    },
    {
      "cell_type": "code",
      "source": [
        "def search(grid) -> Grid:\n",
        "    \"Depth-first search with constraint propagation (`fill`) to find a solution.\"\n",
        "    if grid is Fail: \n",
        "        return Fail\n",
        "    unfilled = [s for s in squares if len(grid[s]) > 1]\n",
        "    if not unfilled: \n",
        "        return grid\n",
        "    s = min(unfilled, key=lambda s: len(grid[s]))\n",
        "    for d in grid[s]:\n",
        "        solution = search(fill(grid.copy(), s, d))\n",
        "        if solution:\n",
        "            return solution\n",
        "    return Fail"
      ],
      "metadata": {
        "id": "L_ChkoOeVQ-V"
      },
      "execution_count": null,
      "outputs": []
    },
    {
      "cell_type": "code",
      "source": [
        "def solve(puzzles, verbose=True) -> int:\n",
        "    \"Solve and verify each puzzle, and if `verbose`, print puzzle and solution.\"\n",
        "    sep = '    '\n",
        "    for puzzle in puzzles:\n",
        "        solution = search(constrain(puzzle))\n",
        "        assert is_solution(solution, puzzle)\n",
        "        if verbose:\n",
        "            print('\\nPuzzle            ', sep, 'Solution')\n",
        "            for p, s in zip(picture(puzzle).splitlines(), picture(solution).splitlines()):\n",
        "                print(p, sep, s)\n",
        "    return len(puzzles)"
      ],
      "metadata": {
        "id": "rsOhxqvgVSJ7"
      },
      "execution_count": null,
      "outputs": []
    },
    {
      "cell_type": "code",
      "source": [
        "solve([grid1, grid1])"
      ],
      "metadata": {
        "id": "0LOfeTa6VTaT"
      },
      "execution_count": null,
      "outputs": []
    },
    {
      "cell_type": "code",
      "source": [
        "grid3 = parse(\"53..8.9.... 6..195... .98....6. 8...6...3 4..8.3..1 7...2...6 .6....28. ...419..5 ..8..79\")\n"
      ],
      "metadata": {
        "id": "AFSPm7zhVtQP"
      },
      "execution_count": null,
      "outputs": []
    },
    {
      "cell_type": "code",
      "source": [
        "solve([grid1, grid3])"
      ],
      "metadata": {
        "id": "L3eAFRPRVv6H"
      },
      "execution_count": null,
      "outputs": []
    },
    {
      "cell_type": "code",
      "source": [
        "empty = parse('.' * 81)\n",
        "              \n",
        "solve([empty])"
      ],
      "metadata": {
        "id": "tjWpyPrGVleH"
      },
      "execution_count": null,
      "outputs": []
    }
  ]
}