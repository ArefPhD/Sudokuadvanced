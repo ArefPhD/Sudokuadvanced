{
  "cells": [
    {
      "cell_type": "markdown",
      "metadata": {
        "id": "NZa3DG60Yi4H"
      },
      "source": [
        "# **<span style=\"color:red;text-decoration:underline\">Let's solve some sudokus!</span>**\n",
        "In this notebook we will try to solve some sudokus using neural networks. As you will see that a neural net is not very suited for this use case so we would look at some of the most optimised approaches in the end.\n",
        "\n",
        "<t>This tutorial is inspired by [this](https://towardsdatascience.com/solving-sudoku-with-convolution-neural-network-keras-655ba4be3b11) awesome medium article. This tutorial is beginner friendly so anyone with a basic understanding of python and neural nets(convnets) can proceed.\n",
        "\n",
        "## <span style=\"color:green;text-decoration:underline\">What is a sudoku?</span>\n",
        "Sudoku is a logic-based, combinatorial number-placement puzzle. The objective is to fill a 9×9 grid with digits so that each column, each row, and each of the nine 3×3 subgrids that compose the grid contain all of the digits from 1 to 9.\n",
        "<t>The modern Sudoku was most likely designed anonymously by Howard Garns, a 74-year-old retired architect and freelance puzzle constructor from Connersville, Indiana, and first published in 1979 by Dell Magazines as Number Place (the earliest known examples of modern Sudoku).\n",
        "<t>\n",
        "![img](https://upload.wikimedia.org/wikipedia/commons/thumb/e/e0/Sudoku_Puzzle_by_L2G-20050714_standardized_layout.svg/300px-Sudoku_Puzzle_by_L2G-20050714_standardized_layout.svg.png)\n",
        "    \n",
        "### Rules\n",
        "1. Each row, column, and subgrid should contain each number (1 to 9) exactly once.\n",
        "2. The sum of all numbers in any subgrid, row, or column must be equal to 45.\n"
      ]
    },
    {
      "cell_type": "markdown",
      "metadata": {
        "id": "pKJJwS80Yi4O"
      },
      "source": [
        "## <span style=\"color:green;text-decoration:underline\">Exploratory Data Analysis?</span>\n",
        "Let's understand the data we are working with.\n",
        "We are using the [9 Million Sudoku Puzzles and Solutions](https://www.kaggle.com/rohanrao/sudoku) dataset. \n",
        "<br>You can also combine the [1 million Sudoku games](https://www.kaggle.com/bryanpark/sudoku) dataset to have more data although 9M is already a lot."
      ]
    },
    {
      "cell_type": "code",
      "execution_count": 9,
      "metadata": {
        "_cell_guid": "b1076dfc-b9ad-4769-8c92-a6c4dae69d19",
        "_uuid": "8f2839f25d086af736a60e9eeb907d3b93b6e0e5",
        "colab": {
          "base_uri": "https://localhost:8080/",
          "height": 374
        },
        "id": "ed9StETiYi4O",
        "outputId": "11e1fd87-3d5c-4ab6-9e0b-01de980d7449"
      },
      "outputs": [
        {
          "output_type": "error",
          "ename": "ImportError",
          "evalue": "ignored",
          "traceback": [
            "\u001b[0;31m---------------------------------------------------------------------------\u001b[0m",
            "\u001b[0;31mImportError\u001b[0m                               Traceback (most recent call last)",
            "\u001b[0;32m<ipython-input-9-180e2ba9fb6c>\u001b[0m in \u001b[0;36m<module>\u001b[0;34m()\u001b[0m\n\u001b[1;32m      4\u001b[0m \u001b[0;32mimport\u001b[0m \u001b[0mkeras\u001b[0m\u001b[0;34m.\u001b[0m\u001b[0mbackend\u001b[0m \u001b[0;32mas\u001b[0m \u001b[0mK\u001b[0m\u001b[0;34m\u001b[0m\u001b[0;34m\u001b[0m\u001b[0m\n\u001b[1;32m      5\u001b[0m \u001b[0;32mfrom\u001b[0m \u001b[0mkeras\u001b[0m\u001b[0;34m.\u001b[0m\u001b[0mmodels\u001b[0m \u001b[0;32mimport\u001b[0m \u001b[0mSequential\u001b[0m\u001b[0;34m\u001b[0m\u001b[0;34m\u001b[0m\u001b[0m\n\u001b[0;32m----> 6\u001b[0;31m \u001b[0;32mfrom\u001b[0m \u001b[0mkeras\u001b[0m\u001b[0;34m.\u001b[0m\u001b[0mutils\u001b[0m \u001b[0;32mimport\u001b[0m \u001b[0mSequence\u001b[0m\u001b[0;34m\u001b[0m\u001b[0;34m\u001b[0m\u001b[0m\n\u001b[0m\u001b[1;32m      7\u001b[0m \u001b[0;32mfrom\u001b[0m \u001b[0mkeras\u001b[0m\u001b[0;34m.\u001b[0m\u001b[0mlayers\u001b[0m \u001b[0;32mimport\u001b[0m \u001b[0;34m*\u001b[0m\u001b[0;34m\u001b[0m\u001b[0;34m\u001b[0m\u001b[0m\n\u001b[1;32m      8\u001b[0m \u001b[0;32mimport\u001b[0m \u001b[0mmatplotlib\u001b[0m\u001b[0;34m.\u001b[0m\u001b[0mpyplot\u001b[0m \u001b[0;32mas\u001b[0m \u001b[0mplt\u001b[0m\u001b[0;34m\u001b[0m\u001b[0;34m\u001b[0m\u001b[0m\n",
            "\u001b[0;31mImportError\u001b[0m: cannot import name 'Sequence' from 'keras.utils' (/usr/local/lib/python3.7/dist-packages/keras/utils/__init__.py)",
            "",
            "\u001b[0;31m---------------------------------------------------------------------------\u001b[0;32m\nNOTE: If your import is failing due to a missing package, you can\nmanually install dependencies using either !pip or !apt.\n\nTo view examples of installing some common dependencies, click the\n\"Open Examples\" button below.\n\u001b[0;31m---------------------------------------------------------------------------\u001b[0m\n"
          ],
          "errorDetails": {
            "actions": [
              {
                "action": "open_url",
                "actionText": "Open Examples",
                "url": "/notebooks/snippets/importing_libraries.ipynb"
              }
            ]
          }
        }
      ],
      "source": [
        "import numpy as np\n",
        "import pandas as pd\n",
        "import keras\n",
        "import keras.backend as K\n",
        "from keras.models import Sequential\n",
        "from keras.utils import Sequence\n",
        "from keras.layers import *\n",
        "import matplotlib.pyplot as plt"
      ]
    },
    {
      "cell_type": "code",
      "source": [
        "from google.colab import files\n",
        "\n",
        "uploaded = files.upload()"
      ],
      "metadata": {
        "colab": {
          "resources": {
            "http://localhost:8080/nbextensions/google.colab/files.js": {
              "data": "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",
              "ok": true,
              "headers": [
                [
                  "content-type",
                  "application/javascript"
                ]
              ],
              "status": 200,
              "status_text": ""
            }
          },
          "base_uri": "https://localhost:8080/",
          "height": 73
        },
        "id": "8Vx0acOUZO_I",
        "outputId": "4ed4bf52-9c59-4b3f-d38b-36ab37ba4b6c"
      },
      "execution_count": 2,
      "outputs": [
        {
          "output_type": "display_data",
          "data": {
            "text/plain": [
              "<IPython.core.display.HTML object>"
            ],
            "text/html": [
              "\n",
              "     <input type=\"file\" id=\"files-aa80da74-983c-4fd7-b063-21ae6face0e2\" name=\"files[]\" multiple disabled\n",
              "        style=\"border:none\" />\n",
              "     <output id=\"result-aa80da74-983c-4fd7-b063-21ae6face0e2\">\n",
              "      Upload widget is only available when the cell has been executed in the\n",
              "      current browser session. Please rerun this cell to enable.\n",
              "      </output>\n",
              "      <script src=\"/nbextensions/google.colab/files.js\"></script> "
            ]
          },
          "metadata": {}
        },
        {
          "output_type": "stream",
          "name": "stdout",
          "text": [
            "Saving sudoku.csv to sudoku.csv\n"
          ]
        }
      ]
    },
    {
      "cell_type": "code",
      "execution_count": 3,
      "metadata": {
        "_cell_guid": "79c7e3d0-c299-4dcb-8224-4455121ee9b0",
        "_uuid": "d629ff2d2480ee46fbb7e2d37f6b5fab8052498a",
        "colab": {
          "base_uri": "https://localhost:8080/",
          "height": 206
        },
        "id": "bM2aHLU5Yi4Q",
        "outputId": "fc4a0364-3c56-4a11-d9ce-b860d083ae5e"
      },
      "outputs": [
        {
          "output_type": "execute_result",
          "data": {
            "text/plain": [
              "                                             quizzes  \\\n",
              "0  0043002090050090010700600430060020871900074000...   \n",
              "1  0401000501070039605200080000000000170009068008...   \n",
              "2  6001203840084590720000060050002640300700800069...   \n",
              "3  4972000001004000050000160986203000403009000000...   \n",
              "4  0059103080094030600275001000300002010008200070...   \n",
              "\n",
              "                                           solutions  \n",
              "0  8643712593258497619712658434361925871986574322...  \n",
              "1  3461792581875239645296483719658324174729168358...  \n",
              "2  6951273841384596727248369158512647392739815469...  \n",
              "3  4972583161864397252537164986293815473759641828...  \n",
              "4  4659123781894735623275681497386452919548216372...  "
            ],
            "text/html": [
              "\n",
              "  <div id=\"df-deae00eb-534d-4195-b773-09a6d6b7ea55\">\n",
              "    <div class=\"colab-df-container\">\n",
              "      <div>\n",
              "<style scoped>\n",
              "    .dataframe tbody tr th:only-of-type {\n",
              "        vertical-align: middle;\n",
              "    }\n",
              "\n",
              "    .dataframe tbody tr th {\n",
              "        vertical-align: top;\n",
              "    }\n",
              "\n",
              "    .dataframe thead th {\n",
              "        text-align: right;\n",
              "    }\n",
              "</style>\n",
              "<table border=\"1\" class=\"dataframe\">\n",
              "  <thead>\n",
              "    <tr style=\"text-align: right;\">\n",
              "      <th></th>\n",
              "      <th>quizzes</th>\n",
              "      <th>solutions</th>\n",
              "    </tr>\n",
              "  </thead>\n",
              "  <tbody>\n",
              "    <tr>\n",
              "      <th>0</th>\n",
              "      <td>0043002090050090010700600430060020871900074000...</td>\n",
              "      <td>8643712593258497619712658434361925871986574322...</td>\n",
              "    </tr>\n",
              "    <tr>\n",
              "      <th>1</th>\n",
              "      <td>0401000501070039605200080000000000170009068008...</td>\n",
              "      <td>3461792581875239645296483719658324174729168358...</td>\n",
              "    </tr>\n",
              "    <tr>\n",
              "      <th>2</th>\n",
              "      <td>6001203840084590720000060050002640300700800069...</td>\n",
              "      <td>6951273841384596727248369158512647392739815469...</td>\n",
              "    </tr>\n",
              "    <tr>\n",
              "      <th>3</th>\n",
              "      <td>4972000001004000050000160986203000403009000000...</td>\n",
              "      <td>4972583161864397252537164986293815473759641828...</td>\n",
              "    </tr>\n",
              "    <tr>\n",
              "      <th>4</th>\n",
              "      <td>0059103080094030600275001000300002010008200070...</td>\n",
              "      <td>4659123781894735623275681497386452919548216372...</td>\n",
              "    </tr>\n",
              "  </tbody>\n",
              "</table>\n",
              "</div>\n",
              "      <button class=\"colab-df-convert\" onclick=\"convertToInteractive('df-deae00eb-534d-4195-b773-09a6d6b7ea55')\"\n",
              "              title=\"Convert this dataframe to an interactive table.\"\n",
              "              style=\"display:none;\">\n",
              "        \n",
              "  <svg xmlns=\"http://www.w3.org/2000/svg\" height=\"24px\"viewBox=\"0 0 24 24\"\n",
              "       width=\"24px\">\n",
              "    <path d=\"M0 0h24v24H0V0z\" fill=\"none\"/>\n",
              "    <path d=\"M18.56 5.44l.94 2.06.94-2.06 2.06-.94-2.06-.94-.94-2.06-.94 2.06-2.06.94zm-11 1L8.5 8.5l.94-2.06 2.06-.94-2.06-.94L8.5 2.5l-.94 2.06-2.06.94zm10 10l.94 2.06.94-2.06 2.06-.94-2.06-.94-.94-2.06-.94 2.06-2.06.94z\"/><path d=\"M17.41 7.96l-1.37-1.37c-.4-.4-.92-.59-1.43-.59-.52 0-1.04.2-1.43.59L10.3 9.45l-7.72 7.72c-.78.78-.78 2.05 0 2.83L4 21.41c.39.39.9.59 1.41.59.51 0 1.02-.2 1.41-.59l7.78-7.78 2.81-2.81c.8-.78.8-2.07 0-2.86zM5.41 20L4 18.59l7.72-7.72 1.47 1.35L5.41 20z\"/>\n",
              "  </svg>\n",
              "      </button>\n",
              "      \n",
              "  <style>\n",
              "    .colab-df-container {\n",
              "      display:flex;\n",
              "      flex-wrap:wrap;\n",
              "      gap: 12px;\n",
              "    }\n",
              "\n",
              "    .colab-df-convert {\n",
              "      background-color: #E8F0FE;\n",
              "      border: none;\n",
              "      border-radius: 50%;\n",
              "      cursor: pointer;\n",
              "      display: none;\n",
              "      fill: #1967D2;\n",
              "      height: 32px;\n",
              "      padding: 0 0 0 0;\n",
              "      width: 32px;\n",
              "    }\n",
              "\n",
              "    .colab-df-convert:hover {\n",
              "      background-color: #E2EBFA;\n",
              "      box-shadow: 0px 1px 2px rgba(60, 64, 67, 0.3), 0px 1px 3px 1px rgba(60, 64, 67, 0.15);\n",
              "      fill: #174EA6;\n",
              "    }\n",
              "\n",
              "    [theme=dark] .colab-df-convert {\n",
              "      background-color: #3B4455;\n",
              "      fill: #D2E3FC;\n",
              "    }\n",
              "\n",
              "    [theme=dark] .colab-df-convert:hover {\n",
              "      background-color: #434B5C;\n",
              "      box-shadow: 0px 1px 3px 1px rgba(0, 0, 0, 0.15);\n",
              "      filter: drop-shadow(0px 1px 2px rgba(0, 0, 0, 0.3));\n",
              "      fill: #FFFFFF;\n",
              "    }\n",
              "  </style>\n",
              "\n",
              "      <script>\n",
              "        const buttonEl =\n",
              "          document.querySelector('#df-deae00eb-534d-4195-b773-09a6d6b7ea55 button.colab-df-convert');\n",
              "        buttonEl.style.display =\n",
              "          google.colab.kernel.accessAllowed ? 'block' : 'none';\n",
              "\n",
              "        async function convertToInteractive(key) {\n",
              "          const element = document.querySelector('#df-deae00eb-534d-4195-b773-09a6d6b7ea55');\n",
              "          const dataTable =\n",
              "            await google.colab.kernel.invokeFunction('convertToInteractive',\n",
              "                                                     [key], {});\n",
              "          if (!dataTable) return;\n",
              "\n",
              "          const docLinkHtml = 'Like what you see? Visit the ' +\n",
              "            '<a target=\"_blank\" href=https://colab.research.google.com/notebooks/data_table.ipynb>data table notebook</a>'\n",
              "            + ' to learn more about interactive tables.';\n",
              "          element.innerHTML = '';\n",
              "          dataTable['output_type'] = 'display_data';\n",
              "          await google.colab.output.renderOutput(dataTable, element);\n",
              "          const docLink = document.createElement('div');\n",
              "          docLink.innerHTML = docLinkHtml;\n",
              "          element.appendChild(docLink);\n",
              "        }\n",
              "      </script>\n",
              "    </div>\n",
              "  </div>\n",
              "  "
            ]
          },
          "metadata": {},
          "execution_count": 3
        }
      ],
      "source": [
        "data = pd.read_csv(\"sudoku.csv\")\n",
        "try:\n",
        "    data = pd.DataFrame({\"quizzes\":data[\"puzzle\"],\"solutions\":data[\"solution\"]})\n",
        "except:\n",
        "    pass\n",
        "data.head()"
      ]
    },
    {
      "cell_type": "code",
      "execution_count": 4,
      "metadata": {
        "colab": {
          "base_uri": "https://localhost:8080/"
        },
        "id": "c_SpqFc2Yi4Q",
        "outputId": "98da1050-b53c-4cc5-b298-f05712fd6241"
      },
      "outputs": [
        {
          "output_type": "stream",
          "name": "stdout",
          "text": [
            "<class 'pandas.core.frame.DataFrame'>\n",
            "RangeIndex: 1000000 entries, 0 to 999999\n",
            "Data columns (total 2 columns):\n",
            " #   Column     Non-Null Count    Dtype \n",
            "---  ------     --------------    ----- \n",
            " 0   quizzes    1000000 non-null  object\n",
            " 1   solutions  1000000 non-null  object\n",
            "dtypes: object(2)\n",
            "memory usage: 15.3+ MB\n"
          ]
        }
      ],
      "source": [
        "data.info()"
      ]
    },
    {
      "cell_type": "markdown",
      "metadata": {
        "id": "Al-WGE0HYi4R"
      },
      "source": [
        "Quizes and Solutions are in the form of strings of length 81. '0' in the quizzes are for blank spaces.\n",
        "<br>Let's see the quizes and solutions more semantically."
      ]
    },
    {
      "cell_type": "code",
      "execution_count": 10,
      "metadata": {
        "colab": {
          "base_uri": "https://localhost:8080/"
        },
        "id": "gMKGxcQbYi4R",
        "outputId": "9bab8a2d-d493-4570-ef80-361f1dddbe7e"
      },
      "outputs": [
        {
          "output_type": "stream",
          "name": "stdout",
          "text": [
            "Quiz:\n",
            " [[0 4 0 1 0 0 0 5 0]\n",
            " [1 0 7 0 0 3 9 6 0]\n",
            " [5 2 0 0 0 8 0 0 0]\n",
            " [0 0 0 0 0 0 0 1 7]\n",
            " [0 0 0 9 0 6 8 0 0]\n",
            " [8 0 3 0 5 0 6 2 0]\n",
            " [0 9 0 0 6 0 5 4 3]\n",
            " [6 0 0 0 8 0 7 0 0]\n",
            " [2 5 0 0 9 7 1 0 0]]\n",
            "Solution:\n",
            " [[3 4 6 1 7 9 2 5 8]\n",
            " [1 8 7 5 2 3 9 6 4]\n",
            " [5 2 9 6 4 8 3 7 1]\n",
            " [9 6 5 8 3 2 4 1 7]\n",
            " [4 7 2 9 1 6 8 3 5]\n",
            " [8 1 3 7 5 4 6 2 9]\n",
            " [7 9 8 2 6 1 5 4 3]\n",
            " [6 3 1 4 8 5 7 9 2]\n",
            " [2 5 4 3 9 7 1 8 6]]\n"
          ]
        }
      ],
      "source": [
        "print(\"Quiz:\\n\",np.array(list(map(int,list(data['quizzes'][1])))).reshape(9,9))\n",
        "print(\"Solution:\\n\",np.array(list(map(int,list(data['solutions'][1])))).reshape(9,9))"
      ]
    },
    {
      "cell_type": "markdown",
      "metadata": {
        "id": "Y5lOhHm_Yi4R"
      },
      "source": [
        "## <span style=\"color:green;text-decoration:underline\">Deep Learning Approach</span>\n",
        "### Let's create a basic model\n",
        "We know that semantics are important for solving a sudoku and convnets are ideal in preserving semantics and extracting semantic features so we will be creating a [convnet](https://towardsdatascience.com/a-comprehensive-guide-to-convolutional-neural-networks-the-eli5-way-3bd2b1164a53).\n",
        "\n",
        "* Our input are batches of arrays of shape (9,9).\n",
        "* Output is of shape (81,1) because we are using [sparse_categorical_crossentropy](https://stackoverflow.com/questions/58565394/what-is-the-difference-between-sparse-categorical-crossentropy-and-categorical-c) loss function which does not require passing one-hot vectors as output. \n",
        "* We are using a batch size of 640 as the data is very large in number and can easily fit in a decent GPU.\n",
        "* Training and validation split is of 95% to 5% as 5% of 9M is also very large(4,50,000).\n",
        "* We will be using reducing lr approach to finetune our model and model checkpointing to save the best model and avoid overfitting."
      ]
    },
    {
      "cell_type": "code",
      "source": [
        "from keras.layers.convolutional import Conv2D\n",
        "from keras.layers import BatchNormalization\n",
        "from keras.layers import Flatten\n",
        "from keras.layers import Dense\n",
        "from keras.layers import Reshape\n",
        "from keras.layers import Activation\n",
        "from tensorflow.keras.optimizers import Adam"
      ],
      "metadata": {
        "id": "z0N0SIHShlTI"
      },
      "execution_count": 27,
      "outputs": []
    },
    {
      "cell_type": "code",
      "source": [
        "import tensorflow"
      ],
      "metadata": {
        "id": "uizVKGTciHyZ"
      },
      "execution_count": 31,
      "outputs": []
    },
    {
      "cell_type": "code",
      "execution_count": 32,
      "metadata": {
        "colab": {
          "base_uri": "https://localhost:8080/"
        },
        "id": "git_hsYPYi4S",
        "outputId": "a041dde2-59c2-4018-e744-dfd2fc0593cc"
      },
      "outputs": [
        {
          "output_type": "stream",
          "name": "stderr",
          "text": [
            "/usr/local/lib/python3.7/dist-packages/keras/optimizer_v2/adam.py:105: UserWarning: The `lr` argument is deprecated, use `learning_rate` instead.\n",
            "  super(Adam, self).__init__(name, **kwargs)\n"
          ]
        }
      ],
      "source": [
        "model = Sequential()\n",
        "\n",
        "model.add(Conv2D(64, kernel_size=(3,3), activation='relu', padding='same', input_shape=(9,9,1)))\n",
        "model.add(BatchNormalization())\n",
        "model.add(Conv2D(64, kernel_size=(3,3), activation='relu', padding='same'))\n",
        "model.add(BatchNormalization())\n",
        "model.add(Conv2D(128, kernel_size=(1,1), activation='relu', padding='same'))\n",
        "\n",
        "model.add(Flatten())\n",
        "model.add(Dense(81*9))\n",
        "model.add(Reshape((-1, 9)))\n",
        "model.add(Activation('softmax'))\n",
        "\n",
        "adam = tensorflow.keras.optimizers.Adam(lr=.001)\n",
        "model.compile(loss='sparse_categorical_crossentropy', optimizer=adam, metrics=['accuracy'])"
      ]
    },
    {
      "cell_type": "code",
      "execution_count": 33,
      "metadata": {
        "colab": {
          "base_uri": "https://localhost:8080/"
        },
        "id": "ec-iLBlHYi4S",
        "outputId": "186d37c4-12cd-40fe-9926-d67c49411434"
      },
      "outputs": [
        {
          "output_type": "stream",
          "name": "stdout",
          "text": [
            "Model: \"sequential_10\"\n",
            "_________________________________________________________________\n",
            " Layer (type)                Output Shape              Param #   \n",
            "=================================================================\n",
            " conv2d_25 (Conv2D)          (None, 9, 9, 64)          640       \n",
            "                                                                 \n",
            " batch_normalization_16 (Bat  (None, 9, 9, 64)         256       \n",
            " chNormalization)                                                \n",
            "                                                                 \n",
            " conv2d_26 (Conv2D)          (None, 9, 9, 64)          36928     \n",
            "                                                                 \n",
            " batch_normalization_17 (Bat  (None, 9, 9, 64)         256       \n",
            " chNormalization)                                                \n",
            "                                                                 \n",
            " conv2d_27 (Conv2D)          (None, 9, 9, 128)         8320      \n",
            "                                                                 \n",
            " flatten_7 (Flatten)         (None, 10368)             0         \n",
            "                                                                 \n",
            " dense_6 (Dense)             (None, 729)               7559001   \n",
            "                                                                 \n",
            " reshape_5 (Reshape)         (None, 81, 9)             0         \n",
            "                                                                 \n",
            " activation_4 (Activation)   (None, 81, 9)             0         \n",
            "                                                                 \n",
            "=================================================================\n",
            "Total params: 7,605,401\n",
            "Trainable params: 7,605,145\n",
            "Non-trainable params: 256\n",
            "_________________________________________________________________\n"
          ]
        }
      ],
      "source": [
        "model.summary()"
      ]
    },
    {
      "cell_type": "markdown",
      "metadata": {
        "id": "cBcr4d7gYi4T"
      },
      "source": [
        "### Data Generators\n",
        "We will be creating training and test data generator. Lets use 95% data for training and 5% data for validation as 5% of 9Million is still very large for validation purposes. "
      ]
    },
    {
      "cell_type": "code",
      "source": [
        "from tensorflow.keras.utils import Sequence\n",
        " "
      ],
      "metadata": {
        "id": "cq9JLkMdilB5"
      },
      "execution_count": 38,
      "outputs": []
    },
    {
      "cell_type": "code",
      "source": [
        "class DataGenerator(Sequence):\n",
        "    def __init__(self, df,batch_size = 16,subset = \"train\",shuffle = False, info={}):\n",
        "        super().__init__()\n",
        "        self.df = df\n",
        "        self.batch_size = batch_size\n",
        "        self.shuffle = shuffle\n",
        "        self.subset = subset\n",
        "        self.info = info\n",
        "        self.on_epoch_end()\n",
        "        \n",
        "    def __len__(self):\n",
        "        return int(np.floor(len(self.df)/self.batch_size))\n",
        "    def on_epoch_end(self):\n",
        "        self.indexes = np.arange(len(self.df))\n",
        "        if self.shuffle==True:\n",
        "            np.random.shuffle(self.indexes)\n",
        "            \n",
        "    def __getitem__(self,index):\n",
        "        X = np.empty((self.batch_size, 9,9,1))\n",
        "        y = np.empty((self.batch_size,81,1))\n",
        "        indexes = self.indexes[index*self.batch_size:(index+1)*self.batch_size]\n",
        "        for i,f in enumerate(self.df['quizzes'].iloc[indexes]):\n",
        "            self.info[index*self.batch_size+i]=f\n",
        "            X[i,] = (np.array(list(map(int,list(f)))).reshape((9,9,1))/9)-0.5\n",
        "        if self.subset == 'train': \n",
        "            for i,f in enumerate(self.df['solutions'].iloc[indexes]):\n",
        "                self.info[index*self.batch_size+i]=f\n",
        "                y[i,] = np.array(list(map(int,list(f)))).reshape((81,1)) - 1\n",
        "        if self.subset == 'train': return X, y\n",
        "        else: return X"
      ],
      "metadata": {
        "id": "kWYnEoxwiVaR"
      },
      "execution_count": 39,
      "outputs": []
    },
    {
      "cell_type": "code",
      "execution_count": 40,
      "metadata": {
        "id": "QHyDtT89Yi4T"
      },
      "outputs": [],
      "source": [
        "train_idx = int(len(data)*0.95)\n",
        "data = data.sample(frac=1).reset_index(drop=True)\n",
        "training_generator = DataGenerator(data.iloc[:train_idx], subset = \"train\", batch_size=640)\n",
        "validation_generator = DataGenerator(data.iloc[train_idx:], subset = \"train\",  batch_size=640)"
      ]
    },
    {
      "cell_type": "code",
      "execution_count": 41,
      "metadata": {
        "colab": {
          "base_uri": "https://localhost:8080/"
        },
        "id": "gvSkKkY6Yi4T",
        "outputId": "f8faeb3f-3312-45a2-c139-ba62f3106ed9"
      },
      "outputs": [
        {
          "output_type": "execute_result",
          "data": {
            "text/plain": [
              "(640, 9, 9, 1)"
            ]
          },
          "metadata": {},
          "execution_count": 41
        }
      ],
      "source": [
        "training_generator.__getitem__(4)[0].shape"
      ]
    },
    {
      "cell_type": "markdown",
      "metadata": {
        "id": "PMQ-Wrg-Yi4T"
      },
      "source": [
        "### Callbacks\n",
        "Callbacks help in monitoring model training on-the-go. They can be used to stop training, saving best weights, reducing learning rate if validation accuracy is not improving.\n",
        "<br>\n",
        "In our case we are using two callbacks.\n",
        "1. First one is **ModelCheckpoint** which saves the weights as soon as the validation accuracy imporves from the previous best.\n",
        "2. Second one is **ReduceLROnPlateau** which reduces the learning rate if the validation loss doesnot improve after a set no of epochs called patience. In our case the patience is of 3 and the lowest it can go is 1e-6 after which it does not reduce LR."
      ]
    },
    {
      "cell_type": "code",
      "execution_count": 42,
      "metadata": {
        "id": "0ZjH_0dOYi4T"
      },
      "outputs": [],
      "source": [
        "from keras.callbacks import Callback, ModelCheckpoint, ReduceLROnPlateau\n",
        "filepath1=\"weights-improvement-{epoch:02d}-{val_accuracy:.2f}.hdf5\"\n",
        "filepath2 = \"best_weights.hdf5\"\n",
        "checkpoint1 = ModelCheckpoint(filepath1, monitor='val_accuracy', verbose=1, save_best_only=True, mode='max')\n",
        "checkpoint2 = ModelCheckpoint(filepath2, monitor='val_accuracy', verbose=1, save_best_only=True, mode='max')\n",
        "\n",
        "reduce_lr = ReduceLROnPlateau(\n",
        "    monitor='val_loss',\n",
        "    patience=3,\n",
        "    verbose=1,\n",
        "    min_lr=1e-6\n",
        ")\n",
        "callbacks_list = [checkpoint1,checkpoint2,reduce_lr]"
      ]
    },
    {
      "cell_type": "code",
      "execution_count": null,
      "metadata": {
        "colab": {
          "base_uri": "https://localhost:8080/"
        },
        "id": "DUCJJLEgYi4T",
        "outputId": "9a5a651a-d5c6-4728-a874-04986ce81401"
      },
      "outputs": [
        {
          "output_type": "stream",
          "name": "stderr",
          "text": [
            "/usr/local/lib/python3.7/dist-packages/ipykernel_launcher.py:1: UserWarning: `Model.fit_generator` is deprecated and will be removed in a future version. Please use `Model.fit`, which supports generators.\n",
            "  \"\"\"Entry point for launching an IPython kernel.\n"
          ]
        },
        {
          "output_type": "stream",
          "name": "stdout",
          "text": [
            " 988/1484 [==================>...........] - ETA: 8:33 - loss: 0.8705 - accuracy: 0.1139"
          ]
        }
      ],
      "source": [
        "history = model.fit_generator(training_generator, validation_data = validation_generator, epochs = 1, verbose=1,callbacks=callbacks_list )"
      ]
    },
    {
      "cell_type": "markdown",
      "metadata": {
        "id": "QszrayaPYi4U"
      },
      "source": [
        "NOTE: For best results train for 5 to 6 epochs. I've tried training upto 30 epochs and the accuracy doesn't improve above 5 epochs."
      ]
    },
    {
      "cell_type": "code",
      "execution_count": null,
      "metadata": {
        "id": "7Fsm8-KKYi4U"
      },
      "outputs": [],
      "source": [
        "model.load_weights('best_weights.hdf5')"
      ]
    },
    {
      "cell_type": "markdown",
      "metadata": {
        "id": "6Q11Pol6Yi4U"
      },
      "source": [
        "## <span style=\"color:green;text-decoration:underline\">Solving Real Sudokus!!?</span>\n",
        "Here we use a more human approach to solving the sudoku that is to fill one number at a time. This means that we pass the sudoku through the neural net once and fill the number that it is most sure of, than again pass it and fill another number till all the numbers are filled. This helps the neural net to gain context from the previously filled digits like a human player."
      ]
    },
    {
      "cell_type": "code",
      "execution_count": null,
      "metadata": {
        "id": "tdffFJzPYi4U"
      },
      "outputs": [],
      "source": [
        "def norm(a):\n",
        "    return (a/9)-.5\n",
        "\n",
        "def denorm(a):\n",
        "    return (a+.5)*9\n",
        "\n",
        "def inference_sudoku(sample):\n",
        "    \n",
        "    '''\n",
        "        This function solve the sudoku by filling blank positions one by one.\n",
        "    '''\n",
        "    \n",
        "    feat = sample\n",
        "    \n",
        "    while(1):\n",
        "    \n",
        "        out = model.predict(feat.reshape((1,9,9,1)))  \n",
        "        out = out.squeeze()\n",
        "\n",
        "        pred = np.argmax(out, axis=1).reshape((9,9))+1 \n",
        "        prob = np.around(np.max(out, axis=1).reshape((9,9)), 2) \n",
        "        \n",
        "        feat = denorm(feat).reshape((9,9))\n",
        "        mask = (feat==0)\n",
        "     \n",
        "        if(mask.sum()==0):\n",
        "            break\n",
        "            \n",
        "        prob_new = prob*mask\n",
        "    \n",
        "        ind = np.argmax(prob_new)\n",
        "        x, y = (ind//9), (ind%9)\n",
        "\n",
        "        val = pred[x][y]\n",
        "        feat[x][y] = val\n",
        "        feat = norm(feat)\n",
        "    \n",
        "    return pred\n",
        "\n",
        "def test_accuracy(feats, labels):\n",
        "    \n",
        "    correct = 0\n",
        "    \n",
        "    for i,feat in enumerate(feats):\n",
        "        \n",
        "        pred = inference_sudoku(feat)\n",
        "        \n",
        "        true = labels[i].reshape((9,9))+1\n",
        "        \n",
        "        if(abs(true - pred).sum()==0):\n",
        "            correct += 1\n",
        "        \n",
        "    print(correct/feats.shape[0])\n",
        "\n",
        "def solve_sudoku(game):\n",
        "    \n",
        "    game = game.replace('\\n', '')\n",
        "    game = game.replace(' ', '')\n",
        "    game = np.array([int(j) for j in game]).reshape((9,9,1))\n",
        "    game = norm(game)\n",
        "    game = inference_sudoku(game)\n",
        "    return game"
      ]
    },
    {
      "cell_type": "markdown",
      "metadata": {
        "id": "pOtVMukPYi4V"
      },
      "source": [
        "You can put in any game in the \"game\" string to solve it. Just copy new_game string in the game string and modify the desired zeros."
      ]
    },
    {
      "cell_type": "code",
      "execution_count": null,
      "metadata": {
        "id": "moj_2QokYi4V"
      },
      "outputs": [],
      "source": [
        "new_game = '''\n",
        "          0 0 0 0 0 0 0 0 0\n",
        "          0 0 0 0 0 0 0 0 0\n",
        "          0 0 0 0 0 0 0 0 0\n",
        "          0 0 0 0 0 0 0 0 0\n",
        "          0 0 0 0 0 0 0 0 0\n",
        "          0 0 0 0 0 0 0 0 0\n",
        "          0 0 0 0 0 0 0 0 0\n",
        "          0 0 0 0 0 0 0 0 0\n",
        "          0 0 0 0 0 0 0 0 0\n",
        "      '''\n",
        "\n",
        "game = '''\n",
        "          0 0 0 7 0 0 0 9 6\n",
        "          0 0 3 0 6 9 1 7 8\n",
        "          0 0 7 2 0 0 5 0 0\n",
        "          0 7 5 0 0 0 0 0 0\n",
        "          9 0 1 0 0 0 3 0 0\n",
        "          0 0 0 0 0 0 0 0 0\n",
        "          0 0 9 0 0 0 0 0 1\n",
        "          3 1 8 0 2 0 4 0 7\n",
        "          2 4 0 0 0 5 0 0 0\n",
        "      '''\n",
        "\n",
        "game = solve_sudoku(game)\n",
        "\n",
        "print('solved puzzle:\\n')\n",
        "print(game)"
      ]
    },
    {
      "cell_type": "code",
      "execution_count": null,
      "metadata": {
        "id": "Cxep4OPVYi4V"
      },
      "outputs": [],
      "source": [
        "np.sum(game, axis=1)"
      ]
    },
    {
      "cell_type": "markdown",
      "metadata": {
        "id": "aWph08tdYi4V"
      },
      "source": [
        "## <span style=\"color:green;text-decoration:underline\">Normal Approach #1</span>\n",
        "As we can see that this model only achieved an accuracy of 84% on the training set and is not ideal for solving a sudoku. Neural nets are built to generalise and are not ideal for this problem. There are better approaches to achieve this using normal programming like the one given below which uses [backtracking](https://www.geeksforgeeks.org/sudoku-backtracking-7/) to solve the problem."
      ]
    },
    {
      "cell_type": "code",
      "execution_count": null,
      "metadata": {
        "id": "TaaaEgAhYi4W"
      },
      "outputs": [],
      "source": [
        "def solve(bo):\n",
        "    find = find_empty(bo)\n",
        "    if not find:\n",
        "        return True\n",
        "    else:\n",
        "        row, col = find\n",
        "\n",
        "    for i in range(1,10):\n",
        "        if valid(bo, i, (row, col)):\n",
        "            bo[row][col] = i\n",
        "\n",
        "            if solve(bo):\n",
        "                return True\n",
        "\n",
        "            bo[row][col] = 0\n",
        "\n",
        "    return False\n",
        "\n",
        "\n",
        "def valid(bo, num, pos):\n",
        "    # Check row\n",
        "    for i in range(len(bo[0])):\n",
        "        if bo[pos[0]][i] == num and pos[1] != i:\n",
        "            return False\n",
        "\n",
        "    # Check column\n",
        "    for i in range(len(bo)):\n",
        "        if bo[i][pos[1]] == num and pos[0] != i:\n",
        "            return False\n",
        "\n",
        "    # Check box\n",
        "    box_x = pos[1] // 3\n",
        "    box_y = pos[0] // 3\n",
        "\n",
        "    for i in range(box_y*3, box_y*3 + 3):\n",
        "        for j in range(box_x * 3, box_x*3 + 3):\n",
        "            if bo[i][j] == num and (i,j) != pos:\n",
        "                return False\n",
        "\n",
        "    return True\n",
        "\n",
        "\n",
        "def print_board(bo):\n",
        "    for i in range(len(bo)):\n",
        "        if i % 3 == 0 and i != 0:\n",
        "            print(\"- - - - - - - - - - - - - \")\n",
        "\n",
        "        for j in range(len(bo[0])):\n",
        "            if j % 3 == 0 and j != 0:\n",
        "                print(\" | \", end=\"\")\n",
        "\n",
        "            if j == 8:\n",
        "                print(bo[i][j])\n",
        "            else:\n",
        "                print(str(bo[i][j]) + \" \", end=\"\")\n",
        "\n",
        "\n",
        "def find_empty(bo):\n",
        "    for i in range(len(bo)):\n",
        "        for j in range(len(bo[0])):\n",
        "            if bo[i][j] == 0:\n",
        "                return (i, j)  # row, col\n",
        "\n",
        "    return None"
      ]
    },
    {
      "cell_type": "code",
      "execution_count": null,
      "metadata": {
        "id": "CIRF2vOhYi4W"
      },
      "outputs": [],
      "source": [
        "%%time\n",
        "game = '''\n",
        "          0 0 0 7 0 0 0 9 6\n",
        "          0 0 3 0 6 9 1 7 8\n",
        "          0 0 7 2 0 0 5 0 0\n",
        "          0 7 5 0 0 0 0 0 0\n",
        "          9 0 1 0 0 0 3 0 0\n",
        "          0 0 0 0 0 0 0 0 0\n",
        "          0 0 9 0 0 0 0 0 1\n",
        "          3 1 8 0 2 0 4 0 7\n",
        "          2 4 0 0 0 5 0 0 0\n",
        "      '''\n",
        "game = game.strip().split(\"\\n\")\n",
        "board = []\n",
        "for i in game:\n",
        "    t = i.replace(' ','').strip()\n",
        "    t = list(t)\n",
        "    t = list(map(int,t))\n",
        "    board.append(t)\n",
        "    \n",
        "if solve(board):\n",
        "    print_board(board)\n",
        "else:\n",
        "    print(\"Can't be solved.\")"
      ]
    },
    {
      "cell_type": "code",
      "execution_count": null,
      "metadata": {
        "id": "LjjLK642Yi4W"
      },
      "outputs": [],
      "source": [
        "np.sum(board, axis=1)"
      ]
    },
    {
      "cell_type": "markdown",
      "metadata": {
        "id": "8yzPPYrvYi4W"
      },
      "source": [
        "This works like a charm and it is also very fast.\n",
        "<br>Let's check how fast is this algo. We will solve first 1000 problems and see the accuracy and speed!!"
      ]
    },
    {
      "cell_type": "code",
      "execution_count": null,
      "metadata": {
        "id": "uncD05cQYi4X"
      },
      "outputs": [],
      "source": [
        "val_set = data.iloc[:1000]\n",
        "\n",
        "\n",
        "from tqdm import tqdm\n",
        "quiz_list = list(val_set['quizzes'])\n",
        "sol_list = list(val_set['solutions'])\n",
        "val_quiz = []\n",
        "val_sol = []\n",
        "for i,j in tqdm(zip(quiz_list,sol_list)):\n",
        "    q = np.array(list(map(int,list(i)))).reshape(9,9)\n",
        "    s = np.array(list(map(int,list(j)))).reshape(9,9)\n",
        "    val_quiz.append(q)\n",
        "    val_sol.append(s)"
      ]
    },
    {
      "cell_type": "code",
      "execution_count": null,
      "metadata": {
        "id": "95bfjQAeYi4X"
      },
      "outputs": [],
      "source": [
        "%%time\n",
        "count = 0\n",
        "for i,j in tqdm(zip(val_quiz,val_sol)):\n",
        "    if solve(i):\n",
        "        if (i==j).all():\n",
        "            count+=1\n",
        "    else:\n",
        "        pass\n",
        "    \n",
        "print(\"{}/1000 solved!! That's {}% accuracy.\\n\".format(count,(count/1000.0)*100))"
      ]
    },
    {
      "cell_type": "markdown",
      "metadata": {
        "id": "HrYz3iOwYi4X"
      },
      "source": [
        "We can see that although it achieved 100% accuracy it is slow as it took a lot of time| to solve 1000 problems. Let's look at some better approaches."
      ]
    },
    {
      "cell_type": "markdown",
      "metadata": {
        "id": "4k5-UmO9Yi4X"
      },
      "source": [
        "## <span style=\"color:green;text-decoration:underline\">Normal Approach #2</span>\n",
        "A faster approach is to use the [**Naked Twin**](https://medium.com/@anandpathak69/solving-sudoku-using-naked-twin-strategies-f7ed23ea867f) approach which is a lot faster than backtracking."
      ]
    },
    {
      "cell_type": "code",
      "execution_count": null,
      "metadata": {
        "id": "5RAw18GfYi4X"
      },
      "outputs": [],
      "source": [
        "import numpy as np\n",
        "import pandas as pd\n",
        "\n",
        "import collections\n",
        "\n",
        "rows = 'ABCDEFGHI'\n",
        "cols = '123456789'\n",
        "\n",
        "def cross(A, B):\n",
        "    \"Cross product of elements in A and elements in B.\"\n",
        "    return [s + t for s in A for t in B]\n",
        "\n",
        "\n",
        "boxes = cross(rows, cols)\n",
        "\n",
        "row_units = [cross(r, cols) for r in rows]\n",
        "column_units = [cross(rows, c) for c in cols]\n",
        "square_units = [cross(rs, cs) for rs in ('ABC', 'DEF', 'GHI') for cs in ('123', '456', '789')]\n",
        "unitlist = row_units + column_units + square_units \n",
        "units = dict((s, [u for u in unitlist if s in u]) for s in boxes)\n",
        "peers = dict((s, set(sum(units[s], [])) - set([s])) for s in boxes)\n",
        "\n",
        "\n",
        "def assign_value(values, box, value):\n",
        "    \"\"\"\n",
        "    Please use this function to update your values dictionary!\n",
        "    Assigns a value to a given box. If it updates the board record it.\n",
        "    \"\"\"\n",
        "    values[box] = value\n",
        "    return values\n",
        "\n",
        "\n",
        "def naked_twins(values):\n",
        "    \"\"\"Eliminate values using the naked twins strategy.\n",
        "    Args:\n",
        "        values(dict): a dictionary of the form {'box_name': '123456789', ...}\n",
        "    Returns:\n",
        "        the values dictionary with the naked twins eliminated from peers.\n",
        "    \"\"\"\n",
        "\n",
        "    # Find all instances of naked twins\n",
        "    for unit in unitlist:\n",
        "        # Occurrences dict\n",
        "        unit_values_counter = collections.Counter([values[box] for box in unit])\n",
        "        for twins, count in unit_values_counter.items():\n",
        "            # twins will occur twice in a unit, triples will occur three times, and quads four times\n",
        "            if 1 < count == len(twins):\n",
        "                for box in unit:\n",
        "                    # for all boxes except twins boxes in a unit,\n",
        "                    # remove all potential values that exist in twins, triples, quads..\n",
        "                    if values[box] != twins and set(values[box]).intersection(set(twins)):\n",
        "                        for digit in twins:\n",
        "                            values = assign_value(values, box, values[box].replace(digit, ''))\n",
        "    return values\n",
        "\n",
        "\n",
        "def grid_values(grid):\n",
        "    \"\"\"\n",
        "    Convert grid into a dict of {square: char} with '123456789' for empties.\n",
        "    Args:\n",
        "        grid(string) - A grid in string form.\n",
        "    Returns:\n",
        "        A grid in dictionary form\n",
        "            Keys: The boxes, e.g., 'A1'\n",
        "            Values: The value in each box, e.g., '8'. If the box has no value, then the value will be '123456789'.\n",
        "    \"\"\"\n",
        "    chars = []\n",
        "    digits = '123456789'\n",
        "    for c in grid:\n",
        "        if c in digits:\n",
        "            chars.append(c)\n",
        "        if c == '0':\n",
        "            chars.append(digits)\n",
        "    assert len(chars) == 81\n",
        "    return dict(zip(boxes, chars))\n",
        "\n",
        "\n",
        "def display(values):\n",
        "    \"\"\"\n",
        "    Display the values as a 2-D grid.\n",
        "    Args:\n",
        "        values(dict): The sudoku in dictionary form\n",
        "    \"\"\"\n",
        "    width = 1 + max(len(values[s]) for s in boxes)\n",
        "    line = '+'.join(['-' * (width * 3)] * 3)\n",
        "    for r in rows:\n",
        "        print(''.join(values[r + c].center(width) + ('|' if c in '36' else '')\n",
        "                      for c in cols))\n",
        "        if r in 'CF': print(line)\n",
        "    print\n",
        "\n",
        "\n",
        "def eliminate(values):\n",
        "    \"\"\"\n",
        "        Go through all the boxes, and whenever there is a box with a value, eliminate this value from the values of all its peers.\n",
        "        Input: A sudoku in dictionary form.\n",
        "        Output: The resulting sudoku in dictionary form.\n",
        "        \"\"\"\n",
        "    solved_values = [box for box in values.keys() if len(values[box]) == 1]\n",
        "    for box in solved_values:\n",
        "        digit = values[box]\n",
        "        for peer in peers[box]:\n",
        "            values[peer] = values[peer].replace(digit, '')\n",
        "    return values\n",
        "\n",
        "\n",
        "def only_choice(values):\n",
        "    \"\"\"\n",
        "        Go through all the units, and whenever there is a unit with a value that only fits in one box, assign the value to this box.\n",
        "        Input: A sudoku in dictionary form.\n",
        "        Output: The resulting sudoku in dictionary form.\n",
        "        \"\"\"\n",
        "    for unit in unitlist:\n",
        "        for digit in '123456789':\n",
        "            dplaces = [box for box in unit if digit in values[box]]\n",
        "            if len(dplaces) == 1:\n",
        "                values[dplaces[0]] = digit\n",
        "    return values\n",
        "\n",
        "\n",
        "def reduce_puzzle(values):\n",
        "    \"\"\"\n",
        "    Iterate eliminate() and only_choice(). If at some point, there is a box with no available values, return False.\n",
        "    If the sudoku is solved, return the sudoku.\n",
        "    If after an iteration of both functions, the sudoku remains the same, return the sudoku.\n",
        "    Input: A sudoku in dictionary form.\n",
        "    Output: The resulting sudoku in dictionary form.\n",
        "    \"\"\"\n",
        "    stalled = False\n",
        "    while not stalled:\n",
        "        solved_values_before = len([box for box in values.keys() if len(values[box]) == 1])\n",
        "        values = eliminate(values)\n",
        "        values = only_choice(values)\n",
        "        values = naked_twins(values)\n",
        "        solved_values_after = len([box for box in values.keys() if len(values[box]) == 1])\n",
        "        stalled = solved_values_before == solved_values_after\n",
        "        if len([box for box in values.keys() if len(values[box]) == 0]):\n",
        "            #display(values)\n",
        "            return False\n",
        "    return values\n",
        "\n",
        "\n",
        "def search(values):\n",
        "    \"Using depth-first search and propagation, create a search tree and solve the sudoku.\"\n",
        "    # First, reduce the puzzle using the previous function\n",
        "    values = reduce_puzzle(values)\n",
        "    if values is False:\n",
        "        return False  ## Failed earlier\n",
        "    if all(len(values[s]) == 1 for s in boxes):\n",
        "        return values  ## Solved!\n",
        "    # Choose one of the unfilled squares with the fewest possibilities\n",
        "    min_possibility_box = min([box for box in boxes if len(values[box]) > 1])\n",
        "    # Now use recursion to solve each one of the resulting sudokus, and if one returns a value (not False), return that answer!\n",
        "    for digit in values[min_possibility_box]:\n",
        "        new_sudoku = values.copy()\n",
        "        new_sudoku[min_possibility_box] = digit\n",
        "        attempt = search(new_sudoku)\n",
        "        if attempt:\n",
        "            return attempt\n",
        "\n",
        "\n",
        "def solve2(grid):\n",
        "\n",
        "    values = grid_values(grid)\n",
        "    values = search(values)\n",
        "    return values"
      ]
    },
    {
      "cell_type": "code",
      "execution_count": null,
      "metadata": {
        "id": "lgbHLwniYi4Y"
      },
      "outputs": [],
      "source": [
        "%%time\n",
        "count = 0\n",
        "for row in tqdm(data.head(1000).iterrows()):\n",
        "    if (solve2(row[1][\"quizzes\"]) == grid_values(row[1][\"solutions\"])):\n",
        "        count+=1\n",
        "        \n",
        "print(\"{}/1,000 solved!! That's {}% accuracy.\\n\".format(count,(count/1000.0)*100))"
      ]
    },
    {
      "cell_type": "markdown",
      "metadata": {
        "id": "-GXY8HFZYi4Y"
      },
      "source": [
        "Thats really fast compared to backtracking. Let's improve it a little bit more using multithreding(using all cpu cores in parallel)."
      ]
    },
    {
      "cell_type": "code",
      "execution_count": null,
      "metadata": {
        "id": "DPKITl4VYi4Y"
      },
      "outputs": [],
      "source": [
        "%%time\n",
        "from multiprocessing import Pool\n",
        "num_partitions = 100 #number of partitions to split dataframe\n",
        "num_cores = 6 #number of cores on your machine\n",
        "\n",
        "def parallelize_dataframe(df, func):\n",
        "    df_split = np.array_split(df, num_partitions)\n",
        "    pool = Pool(num_cores)\n",
        "    pool.map(func, df_split)\n",
        "    pool.close()\n",
        "    pool.join()\n",
        "\n",
        "def solve_and_verify(data):\n",
        "    for row in data.iterrows():\n",
        "        assert solve2(row[1][\"quizzes\"]) == grid_values(row[1][\"solutions\"])\n",
        "    \n",
        "parallelize_dataframe(data.head(1000), solve_and_verify)"
      ]
    },
    {
      "cell_type": "markdown",
      "metadata": {
        "id": "crth4sW6Yi4Y"
      },
      "source": [
        "As you can see this is a lot faster(almost real-time)!!"
      ]
    },
    {
      "cell_type": "markdown",
      "metadata": {
        "id": "xa9gy_MTYi4Y"
      },
      "source": [
        "## Conclusion\n",
        "* From the above experiments to solve a sudoku, we found out that neural nets are not very accurate in this task and are not ideal candidates for this. They perform better in more generic tasks rather than very specific and arithmetic tasks.\n",
        "* Using backtracking we can solve a sudoku but it will be very slow as it uses multiple combinations as it proceeds.\n",
        "* The best approach by-far according to this experiment is Naked Twins approach. There are better versions of this approach out there that are even faster than this called Naked Triplets and even Naked Quadruples."
      ]
    },
    {
      "cell_type": "markdown",
      "metadata": {
        "id": "9hvVTjoQYi4Z"
      },
      "source": [
        "### TODO: \n",
        "1. Creating a image sudoku extractor and solver.\n",
        "2. Write a detailed medium article."
      ]
    },
    {
      "cell_type": "markdown",
      "metadata": {
        "id": "BbQedOUmYi4Z"
      },
      "source": [
        "**NOTE:**<span style=\"color:red\"> If you like my work, or you want to use it please give an </span>***UPVOTE***. <span style=\"color:red\">It really motivates me to create more and better tutorials.</span> "
      ]
    },
    {
      "cell_type": "markdown",
      "metadata": {
        "id": "K3O1QungYi4Z"
      },
      "source": [
        "## Credits\n",
        "1. https://www.kaggle.com/azureq/sudoku-ai-first-100k-in-7-mins\n",
        "2. https://towardsdatascience.com/solving-sudoku-with-convolution-neural-network-keras-655ba4be3b11\n",
        "3. https://techwithtim.net/tutorials/python-programming/sudoku-solver-backtracking/"
      ]
    },
    {
      "cell_type": "code",
      "execution_count": null,
      "metadata": {
        "id": "qOkjHa1JYi4Z"
      },
      "outputs": [],
      "source": [
        ""
      ]
    }
  ],
  "metadata": {
    "kernelspec": {
      "display_name": "Python 3",
      "language": "python",
      "name": "python3"
    },
    "language_info": {
      "codemirror_mode": {
        "name": "ipython",
        "version": 3
      },
      "file_extension": ".py",
      "mimetype": "text/x-python",
      "name": "python",
      "nbconvert_exporter": "python",
      "pygments_lexer": "ipython3",
      "version": "3.6.6"
    },
    "colab": {
      "name": "deep-sudoku-solver-multiple-approaches.ipynb",
      "provenance": []
    }
  },
  "nbformat": 4,
  "nbformat_minor": 0
}